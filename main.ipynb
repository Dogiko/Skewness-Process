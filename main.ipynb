{
 "cells": [
  {
   "cell_type": "markdown",
   "metadata": {},
   "source": [
    "# Import"
   ]
  },
  {
   "cell_type": "code",
   "execution_count": 1,
   "metadata": {
    "collapsed": true
   },
   "outputs": [],
   "source": [
    "import numpy as np"
   ]
  },
  {
   "cell_type": "markdown",
   "metadata": {},
   "source": [
    "# Define"
   ]
  },
  {
   "cell_type": "code",
   "execution_count": 113,
   "metadata": {},
   "outputs": [],
   "source": [
    "def Normalizer(sample, std_threshold=10**-6):\n",
    "    sample_mean = sample.mean()\n",
    "    sample_std = sample.std()\n",
    "    if sample_std <=std_threshold:\n",
    "        sample_std = std_threshold\n",
    "        print(\"WARNING : sample standard deviation smaller than threshold, set to threshold : \", std_threshold)\n",
    "    \n",
    "    return sample_mean, sample_std, (sample-sample_mean)/sample_std\n",
    "\n",
    "def Skew(sample, decimals=6):\n",
    "    return np.round((Normalizer(sample)[2]**3).mean(), decimals)\n",
    "\n",
    "def Kurtosis(sample, decimals=6):\n",
    "    return np.round((Normalizer(sample)[2]**4).mean(), decimals)\n",
    "\n",
    "def SkewlessNormalizer(sample, iterate = 1000, skew_threshold=10**-3):\n",
    "    is_inverse = False\n",
    "    if np.abs(Skew(sample)) < skew_threshold:\n",
    "        return sample\n",
    "    elif Skew(sample) < 0:\n",
    "        sample *= -1\n",
    "        is_inverse = True\n",
    "    \n",
    "    sample_min = sample.min() # to non-negative\n",
    "    bias = 1.\n",
    "    move = 1.\n",
    "    sign = 1\n",
    "    for i in range(iterate):\n",
    "        pre_sign = sign\n",
    "        trans_skew = Skew(np.log(sample - sample_min + bias))\n",
    "        if np.abs(trans_skew)<skew_threshold:\n",
    "            break\n",
    "        elif trans_skew > 0:\n",
    "            sign = -1\n",
    "        else:\n",
    "            sign = 1\n",
    "        \n",
    "        if sign*pre_sign < 1:\n",
    "            move *= 0.5\n",
    "        \n",
    "        if bias + sign*move > 0:\n",
    "            bias += sign*move\n",
    "        else:\n",
    "            bias = bias/2\n",
    "        \n",
    "    return np.log(sample - sample_min + bias)"
   ]
  },
  {
   "cell_type": "code",
   "execution_count": 73,
   "metadata": {},
   "outputs": [
    {
     "data": {
      "text/plain": [
       "(1.954290831135894,\n",
       " 4.9994317225792395,\n",
       " array([ 0.5630576 ,  0.93481561,  0.84229805, ...,  0.55520729,\n",
       "        -0.68756425, -1.79996283]))"
      ]
     },
     "execution_count": 73,
     "metadata": {},
     "output_type": "execute_result"
    }
   ],
   "source": [
    "Normalizer(np.random.normal(2,5, (10000)))"
   ]
  },
  {
   "cell_type": "code",
   "execution_count": 117,
   "metadata": {},
   "outputs": [
    {
     "name": "stdout",
     "output_type": "stream",
     "text": [
      "82.205178 8198.576113\n"
     ]
    },
    {
     "data": {
      "text/plain": [
       "array([-1.38629436, -0.28768207, -0.28768207, ..., -0.28768207,\n",
       "       -0.28768207,  0.81093022])"
      ]
     },
     "execution_count": 117,
     "metadata": {},
     "output_type": "execute_result"
    }
   ],
   "source": [
    "foo = -0.5*np.ones((10000))\n",
    "foo[0] = -1\n",
    "foo[-1] = 1\n",
    "print(Skew(foo), Kurtosis(foo))\n",
    "SkewlessNormalizer(foo)"
   ]
  },
  {
   "cell_type": "code",
   "execution_count": 97,
   "metadata": {},
   "outputs": [
    {
     "name": "stdout",
     "output_type": "stream",
     "text": [
      "0.001436 2.995401\n"
     ]
    }
   ],
   "source": []
  },
  {
   "cell_type": "code",
   "execution_count": 106,
   "metadata": {},
   "outputs": [
    {
     "name": "stdout",
     "output_type": "stream",
     "text": [
      "1 3\n"
     ]
    }
   ],
   "source": []
  },
  {
   "cell_type": "code",
   "execution_count": null,
   "metadata": {
    "collapsed": true
   },
   "outputs": [],
   "source": []
  }
 ],
 "metadata": {
  "kernelspec": {
   "display_name": "Python 3",
   "language": "python",
   "name": "python3"
  },
  "language_info": {
   "codemirror_mode": {
    "name": "ipython",
    "version": 3
   },
   "file_extension": ".py",
   "mimetype": "text/x-python",
   "name": "python",
   "nbconvert_exporter": "python",
   "pygments_lexer": "ipython3",
   "version": "3.6.4"
  }
 },
 "nbformat": 4,
 "nbformat_minor": 2
}
