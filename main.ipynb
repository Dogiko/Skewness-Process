{
 "cells": [
  {
   "cell_type": "markdown",
   "metadata": {},
   "source": [
    "# Import"
   ]
  },
  {
   "cell_type": "code",
   "execution_count": 1,
   "metadata": {
    "collapsed": true
   },
   "outputs": [],
   "source": [
    "import numpy as np"
   ]
  },
  {
   "cell_type": "markdown",
   "metadata": {},
   "source": [
    "# Define"
   ]
  },
  {
   "cell_type": "code",
   "execution_count": 12,
   "metadata": {
    "collapsed": true
   },
   "outputs": [],
   "source": [
    "def Normalizer(sample, std_threshold=10**-6):\n",
    "    sample_mean = sample.mean()\n",
    "    sample_std = sample.std()\n",
    "    if sample_std <=std_threshold:\n",
    "        sample_std = std_threshold\n",
    "        print(\"WARNING : sample standard deviation smaller than threshold, set to threshold : \", std_threshold)\n",
    "    \n",
    "    return sample_mean, sample_std, (sample-sample_mean)/sample_std\n",
    "\n",
    "def Skew(sample, decimals=6):\n",
    "    return np.round((Normalizer(sample)[2]**3).mean(), decimals)\n",
    "\n",
    "def Kurtosis(sample, decimals=6):\n",
    "    return np.round((Normalizer(sample)[2]**4).mean(), decimals)\n",
    "\n",
    "def SkewlessNormalizer(sample, iterate = 1000, skew_threshold=10**-3):\n",
    "    is_inverse = False\n",
    "    if np.abs(Skew(sample)) < skew_threshold:\n",
    "        return sample\n",
    "    elif Skew(sample) < 0:\n",
    "        sample *= -1\n",
    "        is_inverse = True\n",
    "    \n",
    "    sample_min = sample.min() # to non-negative\n",
    "    bias = 1.\n",
    "    move = 1.\n",
    "    sign = 1\n",
    "    for i in range(iterate):\n",
    "        pre_sign = sign\n",
    "        trans_skew = Skew(np.log(sample - sample_min + bias))\n",
    "        if np.abs(trans_skew)<skew_threshold:\n",
    "            break\n",
    "        elif trans_skew > 0:\n",
    "            sign = -1\n",
    "        else:\n",
    "            sign = 1\n",
    "        \n",
    "        if sign*pre_sign < 1:\n",
    "            move *= 0.5\n",
    "        \n",
    "        if bias + sign*move > 0:\n",
    "            bias += sign*move\n",
    "        else:\n",
    "            bias = bias/2\n",
    "        \n",
    "    return np.log(sample - sample_min + bias)\n",
    "\n",
    "def RandomBinarySkew(mean, std, skewness, size):\n",
    "    value = (skewness + np.sqrt(skewness**2+4))/2\n",
    "    prob = 1/((value**2)+1)\n",
    "    random_seed = np.random.random(size)\n",
    "    output = value*(random_seed < prob) - (1/value)*(random_seed >= prob)\n",
    "    output = std*output + mean\n",
    "    return output\n",
    "\n",
    "def RandomBernoulliSkew(mean, std, skewness, order, size):\n",
    "    order = max(1, order)\n",
    "    order_sqrt=np.sqrt(order)\n",
    "    output = BinarySkew(0, 1, skewness*order_sqrt, size)\n",
    "    for t in range(1, order):\n",
    "        output += BinarySkew(skewness*order_sqrt, size)\n",
    "    \n",
    "    output /= order_sqrt\n",
    "    output = std*output + mean\n",
    "    return output"
   ]
  },
  {
   "cell_type": "code",
   "execution_count": 73,
   "metadata": {},
   "outputs": [
    {
     "data": {
      "text/plain": [
       "(1.954290831135894,\n",
       " 4.9994317225792395,\n",
       " array([ 0.5630576 ,  0.93481561,  0.84229805, ...,  0.55520729,\n",
       "        -0.68756425, -1.79996283]))"
      ]
     },
     "execution_count": 73,
     "metadata": {},
     "output_type": "execute_result"
    }
   ],
   "source": [
    "Normalizer(np.random.normal(2,5, (10000)))"
   ]
  },
  {
   "cell_type": "code",
   "execution_count": 117,
   "metadata": {},
   "outputs": [
    {
     "name": "stdout",
     "output_type": "stream",
     "text": [
      "82.205178 8198.576113\n"
     ]
    },
    {
     "data": {
      "text/plain": [
       "array([-1.38629436, -0.28768207, -0.28768207, ..., -0.28768207,\n",
       "       -0.28768207,  0.81093022])"
      ]
     },
     "execution_count": 117,
     "metadata": {},
     "output_type": "execute_result"
    }
   ],
   "source": [
    "foo = -0.5*np.ones((10000))\n",
    "foo[0] = -1\n",
    "foo[-1] = 1\n",
    "print(Skew(foo), Kurtosis(foo))\n",
    "SkewlessNormalizer(foo)"
   ]
  },
  {
   "cell_type": "code",
   "execution_count": 11,
   "metadata": {},
   "outputs": [
    {
     "data": {
      "text/plain": [
       "array([[0.5349071 , 0.84482905, 0.66142902, 0.46638823, 0.62477758,\n",
       "        0.31586671, 0.34994047, 0.44400072, 0.17521926, 0.091235  ],\n",
       "       [0.86639377, 0.64495378, 0.54553912, 0.3107752 , 0.96631722,\n",
       "        0.91896664, 0.99104516, 0.34451205, 0.23700286, 0.31354764],\n",
       "       [0.84922486, 0.073862  , 0.04530918, 0.21064867, 0.67359792,\n",
       "        0.72411072, 0.25085029, 0.91192464, 0.52586246, 0.26866351],\n",
       "       [0.30566416, 0.85890723, 0.52574904, 0.1008218 , 0.41429895,\n",
       "        0.53877428, 0.2876384 , 0.83431644, 0.58154477, 0.08083534],\n",
       "       [0.13486072, 0.59335059, 0.68874091, 0.39641636, 0.79782794,\n",
       "        0.85730318, 0.37172342, 0.99955705, 0.02568799, 0.81421497],\n",
       "       [0.97801969, 0.11692506, 0.81878713, 0.29161895, 0.75326591,\n",
       "        0.22142731, 0.10117083, 0.05682239, 0.78710243, 0.51488978],\n",
       "       [0.34758949, 0.63919616, 0.39111931, 0.05394447, 0.43311921,\n",
       "        0.39740134, 0.30644947, 0.10263876, 0.82492296, 0.79957354],\n",
       "       [0.79249121, 0.2945641 , 0.82803792, 0.70242727, 0.24300147,\n",
       "        0.75390436, 0.11130382, 0.1031706 , 0.40810458, 0.54135931],\n",
       "       [0.06130815, 0.76414693, 0.63036851, 0.96285069, 0.9725664 ,\n",
       "        0.70755358, 0.58279025, 0.78481551, 0.27135952, 0.85667579],\n",
       "       [0.53043104, 0.01999584, 0.20432025, 0.33925399, 0.35068885,\n",
       "        0.77702942, 0.27895427, 0.48589931, 0.83745118, 0.386976  ]])"
      ]
     },
     "execution_count": 11,
     "metadata": {},
     "output_type": "execute_result"
    }
   ],
   "source": [
    "np.random.random((10,10))"
   ]
  },
  {
   "cell_type": "code",
   "execution_count": null,
   "metadata": {
    "collapsed": true
   },
   "outputs": [],
   "source": []
  }
 ],
 "metadata": {
  "kernelspec": {
   "display_name": "Python 3",
   "language": "python",
   "name": "python3"
  },
  "language_info": {
   "codemirror_mode": {
    "name": "ipython",
    "version": 3
   },
   "file_extension": ".py",
   "mimetype": "text/x-python",
   "name": "python",
   "nbconvert_exporter": "python",
   "pygments_lexer": "ipython3",
   "version": "3.6.4"
  }
 },
 "nbformat": 4,
 "nbformat_minor": 2
}
