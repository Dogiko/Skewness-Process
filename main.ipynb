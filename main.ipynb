{
 "cells": [
  {
   "cell_type": "markdown",
   "metadata": {},
   "source": [
    "# Introduction\n",
    "\n",
    "For sample $\\{x_i\\}_{i=1, ... , n} \\subset \\mathbb{R}$ with positive third centeral moment\n",
    "\n",
    "$$ \\sum{(x_i - \\overline{x})^3} > 0 $$\n",
    "\n",
    "where $\\overline{x}$ is the mean of sample $\\frac{\\sum{(x_i)}}{n} $.\n",
    "\n",
    "We can construct a monotone increasing analytic function (order-preserve)\n",
    "\n",
    "$$ f:\\mathbb{R} \\rightarrow \\mathbb{R} $$\n",
    "\n",
    "$$ f(x) = a*(\\ln(x+k) - b) $$\n",
    "\n",
    "such that $\\{y_i\\}$, with $y_i = f(x_i)$, has zero-mean, unit standard deviation and zero skewness\n",
    "\n",
    "$$ \\sum{y_i} = 0 $$\n",
    "\n",
    "$$ \\sum{y_i}^2 = 1 $$\n",
    "\n",
    "$$ \\sum{y_i}^3 = 0 $$\n",
    "\n",
    "moreover, $a, b, k$ above are unique\n",
    "\n",
    "\n",
    "\n",
    "For case negative third centeral moment, apply this process to $\\{-x_i\\}$, and reverse $\\{y_i\\}$ finally.\n"
   ]
  },
  {
   "cell_type": "markdown",
   "metadata": {},
   "source": [
    "# Import"
   ]
  },
  {
   "cell_type": "code",
   "execution_count": 4,
   "metadata": {
    "collapsed": true
   },
   "outputs": [],
   "source": [
    "import numpy as np\n",
    "import matplotlib.pyplot as plt"
   ]
  },
  {
   "cell_type": "markdown",
   "metadata": {},
   "source": [
    "# Define"
   ]
  },
  {
   "cell_type": "code",
   "execution_count": 5,
   "metadata": {
    "collapsed": true
   },
   "outputs": [],
   "source": [
    "def Normalizer(sample, std_threshold=10**-6):\n",
    "    sample_mean = sample.mean()\n",
    "    sample_std = sample.std()\n",
    "    if sample_std <=std_threshold:\n",
    "        sample_std = std_threshold\n",
    "        print(\"WARNING : sample standard deviation smaller than threshold, set to threshold : \", std_threshold)\n",
    "    \n",
    "    return sample_mean, sample_std, (sample-sample_mean)/sample_std\n",
    "\n",
    "def Skew(sample, decimals=6):\n",
    "    return np.round((Normalizer(sample)[2]**3).mean(), decimals)\n",
    "\n",
    "def Kurtosis(sample, decimals=6):\n",
    "    return np.round((Normalizer(sample)[2]**4).mean(), decimals)\n",
    "\n",
    "def SkewlessNormalizer(sample, iterate = 1000, skew_threshold=10**-3):\n",
    "    reverse = 1\n",
    "    if np.abs(Skew(sample)) < skew_threshold:\n",
    "        return sample\n",
    "    elif Skew(sample) < 0:\n",
    "        reverse = -1\n",
    "    \n",
    "    sample_min = (reverse*sample).min() # to non-negative\n",
    "    bias = 1.\n",
    "    move = 1.\n",
    "    sign = 1\n",
    "    for i in range(iterate):\n",
    "        pre_sign = sign\n",
    "        trans_skew = Skew(np.log(reverse*sample - sample_min + bias))\n",
    "        if np.abs(trans_skew)<skew_threshold:\n",
    "            break\n",
    "        elif trans_skew > 0:\n",
    "            sign = -1\n",
    "        else:\n",
    "            sign = 1\n",
    "        \n",
    "        if sign*pre_sign < 1:\n",
    "            move *= 0.5\n",
    "        \n",
    "        if bias + sign*move > 0:\n",
    "            bias += sign*move\n",
    "        else:\n",
    "            bias = bias/2\n",
    "    \n",
    "    skewless_sample = reverse*np.log(reverse*sample - sample_min + bias)\n",
    "    return Normalizer(skewless_sample)[2]\n",
    "\n",
    "def RandomBinarySkew(mean, std, skewness, size):\n",
    "    # return random bianry value from distribution with given mean, std, skewness\n",
    "    abs_skewness = np.abs(skewness)\n",
    "    value = (abs_skewness + np.sqrt(abs_skewness**2+4))/2\n",
    "    prob = 1/((value**2)+1)\n",
    "    random_seed = np.random.random(size)\n",
    "    output = value*(random_seed < prob) - (1/value)*(random_seed >= prob)\n",
    "    if skewness < 0:\n",
    "        output *= -1\n",
    "    \n",
    "    output = std*output + mean\n",
    "    return output\n",
    "\n",
    "def RandomBernoulliSkew(mean, std, skewness, order, size):\n",
    "    # return random value from (n+1)-value discreat distribution with given mean, std, skewness\n",
    "    # this distribution construct by the sum of n indepent RandomBinarySkew above\n",
    "    # where n = order\n",
    "    order = max(1, order)\n",
    "    order_sqrt = np.sqrt(order)\n",
    "    output = RandomBinarySkew(0, 1, skewness*order_sqrt, size)\n",
    "    for t in range(1, order):\n",
    "        output += RandomBinarySkew(0, 1, skewness*order_sqrt, size)\n",
    "    \n",
    "    output /= order_sqrt\n",
    "    output = std*output + mean\n",
    "    return output"
   ]
  },
  {
   "cell_type": "code",
   "execution_count": 40,
   "metadata": {
    "scrolled": false
   },
   "outputs": [
    {
     "data": {
      "image/png": "[encoded data removed]",
      "text/plain": [
       "<matplotlib.figure.Figure at 0x107074cf8>"
      ]
     },
     "metadata": {},
     "output_type": "display_data"
    },
    {
     "data": {
      "image/png": "[encoded data removed]",
      "text/plain": [
       "<matplotlib.figure.Figure at 0x106791e10>"
      ]
     },
     "metadata": {},
     "output_type": "display_data"
    }
   ],
   "source": [
    "mean = 0.\n",
    "std = 1.\n",
    "skew = -0.2\n",
    "order = 100\n",
    "sample = 100\n",
    "\n",
    "dis = RandomBernoulliSkew(mean, std, skew, order, sample)\n",
    "skewless_dis = SkewlessNormalizer(dis)\n",
    "plt.plot(np.arange(sample), dis, \"bp\")\n",
    "plt.show()\n",
    "plt.plot(np.arange(sample), skewless_dis, \"bp\")\n",
    "plt.show()"
   ]
  },
  {
   "cell_type": "code",
   "execution_count": 31,
   "metadata": {},
   "outputs": [
    {
     "data": {
      "image/png": "[encoded data removed]",
      "text/plain": [
       "<matplotlib.figure.Figure at 0x10735ecc0>"
      ]
     },
     "metadata": {},
     "output_type": "display_data"
    }
   ],
   "source": [
    "\n",
    "\n",
    "mean = 0.\n",
    "std = 1.\n",
    "skew = -0.2\n",
    "order = 100\n",
    "sample = 10000\n",
    "\n",
    "dis = RandomBernoulliSkew(mean, std, skew, order, sample)\n",
    "\n",
    "counter = np.zeros(100)\n",
    "for i in range(100):\n",
    "    counter[i] = ((dis>((i-50)/5))*(dis<((i-49)/5))).sum()\n",
    "\n",
    "import matplotlib.pyplot as plt\n",
    "index = (counter>0)\n",
    "plt.plot(((np.arange(100)-50)/5)[index], counter[index], \"bp\")\n",
    "plt.show()"
   ]
  },
  {
   "cell_type": "code",
   "execution_count": null,
   "metadata": {
    "collapsed": true
   },
   "outputs": [],
   "source": []
  }
 ],
 "metadata": {
  "kernelspec": {
   "display_name": "Python 3",
   "language": "python",
   "name": "python3"
  },
  "language_info": {
   "codemirror_mode": {
    "name": "ipython",
    "version": 3
   },
   "file_extension": ".py",
   "mimetype": "text/x-python",
   "name": "python",
   "nbconvert_exporter": "python",
   "pygments_lexer": "ipython3",
   "version": "3.6.4"
  }
 },
 "nbformat": 4,
 "nbformat_minor": 2
}
